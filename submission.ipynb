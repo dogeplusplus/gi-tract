{
 "cells": [
  {
   "cell_type": "markdown",
   "id": "202fcb8f",
   "metadata": {},
   "source": [
    "# Submission File"
   ]
  },
  {
   "cell_type": "code",
   "execution_count": 8,
   "id": "bbd32b9d",
   "metadata": {},
   "outputs": [],
   "source": [
    "import cv2\n",
    "import torch\n",
    "import numpy as np\n",
    "import pandas as pd\n",
    "import mlflow\n",
    "\n",
    "from pathlib import Path\n",
    "from tqdm.notebook import tqdm\n",
    "from einops import rearrange\n",
    "\n",
    "from eda.predict import predict\n",
    "from utils.extract import convert_to_rle, CLASS_MAPPING"
   ]
  },
  {
   "cell_type": "markdown",
   "id": "9cf42298",
   "metadata": {},
   "source": [
    "# IO"
   ]
  },
  {
   "cell_type": "code",
   "execution_count": 2,
   "id": "9acb921f",
   "metadata": {},
   "outputs": [],
   "source": [
    "def load_image(image_path: Path) -> torch.Tensor:\n",
    "    img = cv2.imread(str(image_path), cv2.IMREAD_UNCHANGED)\n",
    "    img = np.asarray(img, np.float32)\n",
    "    img = torch.from_numpy(img)\n",
    "    \n",
    "    return img"
   ]
  },
  {
   "cell_type": "markdown",
   "id": "08fd3222",
   "metadata": {},
   "source": [
    "# Load Pre-Trained Model"
   ]
  },
  {
   "cell_type": "code",
   "execution_count": 3,
   "id": "025ff69b",
   "metadata": {},
   "outputs": [
    {
     "data": {
      "text/plain": [
       "UNet(\n",
       "  (down): ModuleList(\n",
       "    (0): DoubleConv(\n",
       "      (norm): BatchNorm2d(1, eps=1e-05, momentum=0.1, affine=True, track_running_stats=True)\n",
       "      (conv1): Conv2d(1, 16, kernel_size=(3, 3), stride=(1, 1), padding=same)\n",
       "      (act1): GELU()\n",
       "      (conv2): Conv2d(16, 16, kernel_size=(3, 3), stride=(1, 1), padding=same)\n",
       "      (act2): GELU()\n",
       "    )\n",
       "    (1): DoubleConv(\n",
       "      (norm): BatchNorm2d(16, eps=1e-05, momentum=0.1, affine=True, track_running_stats=True)\n",
       "      (conv1): Conv2d(16, 32, kernel_size=(3, 3), stride=(1, 1), padding=same)\n",
       "      (act1): GELU()\n",
       "      (conv2): Conv2d(32, 32, kernel_size=(3, 3), stride=(1, 1), padding=same)\n",
       "      (act2): GELU()\n",
       "    )\n",
       "    (2): DoubleConv(\n",
       "      (norm): BatchNorm2d(32, eps=1e-05, momentum=0.1, affine=True, track_running_stats=True)\n",
       "      (conv1): Conv2d(32, 64, kernel_size=(3, 3), stride=(1, 1), padding=same)\n",
       "      (act1): GELU()\n",
       "      (conv2): Conv2d(64, 64, kernel_size=(3, 3), stride=(1, 1), padding=same)\n",
       "      (act2): GELU()\n",
       "    )\n",
       "    (3): DoubleConv(\n",
       "      (norm): BatchNorm2d(64, eps=1e-05, momentum=0.1, affine=True, track_running_stats=True)\n",
       "      (conv1): Conv2d(64, 64, kernel_size=(3, 3), stride=(1, 1), padding=same)\n",
       "      (act1): GELU()\n",
       "      (conv2): Conv2d(64, 64, kernel_size=(3, 3), stride=(1, 1), padding=same)\n",
       "      (act2): GELU()\n",
       "    )\n",
       "  )\n",
       "  (up): ModuleList(\n",
       "    (0): DoubleConv(\n",
       "      (norm): BatchNorm2d(128, eps=1e-05, momentum=0.1, affine=True, track_running_stats=True)\n",
       "      (conv1): Conv2d(128, 64, kernel_size=(3, 3), stride=(1, 1), padding=same)\n",
       "      (act1): GELU()\n",
       "      (conv2): Conv2d(64, 64, kernel_size=(3, 3), stride=(1, 1), padding=same)\n",
       "      (act2): GELU()\n",
       "    )\n",
       "    (1): DoubleConv(\n",
       "      (norm): BatchNorm2d(128, eps=1e-05, momentum=0.1, affine=True, track_running_stats=True)\n",
       "      (conv1): Conv2d(128, 32, kernel_size=(3, 3), stride=(1, 1), padding=same)\n",
       "      (act1): GELU()\n",
       "      (conv2): Conv2d(32, 32, kernel_size=(3, 3), stride=(1, 1), padding=same)\n",
       "      (act2): GELU()\n",
       "    )\n",
       "    (2): DoubleConv(\n",
       "      (norm): BatchNorm2d(64, eps=1e-05, momentum=0.1, affine=True, track_running_stats=True)\n",
       "      (conv1): Conv2d(64, 16, kernel_size=(3, 3), stride=(1, 1), padding=same)\n",
       "      (act1): GELU()\n",
       "      (conv2): Conv2d(16, 16, kernel_size=(3, 3), stride=(1, 1), padding=same)\n",
       "      (act2): GELU()\n",
       "    )\n",
       "    (3): DoubleConv(\n",
       "      (norm): BatchNorm2d(32, eps=1e-05, momentum=0.1, affine=True, track_running_stats=True)\n",
       "      (conv1): Conv2d(32, 4, kernel_size=(3, 3), stride=(1, 1), padding=same)\n",
       "      (act1): GELU()\n",
       "      (conv2): Conv2d(4, 4, kernel_size=(3, 3), stride=(1, 1), padding=same)\n",
       "      (act2): GELU()\n",
       "    )\n",
       "  )\n",
       "  (bottom): DoubleConv(\n",
       "    (norm): BatchNorm2d(64, eps=1e-05, momentum=0.1, affine=True, track_running_stats=True)\n",
       "    (conv1): Conv2d(64, 64, kernel_size=(3, 3), stride=(1, 1), padding=same)\n",
       "    (act1): GELU()\n",
       "    (conv2): Conv2d(64, 64, kernel_size=(3, 3), stride=(1, 1), padding=same)\n",
       "    (act2): GELU()\n",
       "  )\n",
       "  (final): Conv2d(4, 4, kernel_size=(1, 1), stride=(1, 1))\n",
       "  (softmax): Softmax(dim=1)\n",
       ")"
      ]
     },
     "execution_count": 3,
     "metadata": {},
     "output_type": "execute_result"
    }
   ],
   "source": [
    "logged_model = \"runs:/54db63cc351242399e8fc208d55e0ed7/model\"\n",
    "device = \"cuda\" if torch.cuda.is_available() else \"cpu\"\n",
    "model = mlflow.pytorch.load_model(logged_model)\n",
    "model = model.to(device)\n",
    "model"
   ]
  },
  {
   "cell_type": "code",
   "execution_count": 28,
   "id": "2acfcf19",
   "metadata": {},
   "outputs": [
    {
     "data": {
      "application/vnd.jupyter.widget-view+json": {
       "model_id": "fd582578d8ab43deafbd1e2e74e65a80",
       "version_major": 2,
       "version_minor": 0
      },
      "text/plain": [
       "  0%|          | 0/38496 [00:00<?, ?it/s]"
      ]
     },
     "metadata": {},
     "output_type": "display_data"
    },
    {
     "ename": "KeyboardInterrupt",
     "evalue": "",
     "output_type": "error",
     "traceback": [
      "\u001b[0;31m---------------------------------------------------------------------------\u001b[0m",
      "\u001b[0;31mKeyboardInterrupt\u001b[0m                         Traceback (most recent call last)",
      "Input \u001b[0;32mIn [28]\u001b[0m, in \u001b[0;36m<cell line: 15>\u001b[0;34m()\u001b[0m\n\u001b[1;32m     22\u001b[0m probs \u001b[38;5;241m=\u001b[39m predict(model, image)\n\u001b[1;32m     23\u001b[0m mask \u001b[38;5;241m=\u001b[39m np\u001b[38;5;241m.\u001b[39margmax(probs\u001b[38;5;241m.\u001b[39mcpu()\u001b[38;5;241m.\u001b[39mdetach()\u001b[38;5;241m.\u001b[39mnumpy(), axis\u001b[38;5;241m=\u001b[39m\u001b[38;5;241m0\u001b[39m)\n\u001b[0;32m---> 24\u001b[0m rle \u001b[38;5;241m=\u001b[39m \u001b[43mconvert_to_rle\u001b[49m\u001b[43m(\u001b[49m\u001b[43mmask\u001b[49m\u001b[43m,\u001b[49m\u001b[43m \u001b[49m\u001b[43mindex\u001b[49m\u001b[43m)\u001b[49m\n\u001b[1;32m     25\u001b[0m frames\u001b[38;5;241m.\u001b[39mappend(rle)\n",
      "File \u001b[0;32m~/github/gi-tract/utils/extract.py:65\u001b[0m, in \u001b[0;36mconvert_to_rle\u001b[0;34m(mask, id)\u001b[0m\n\u001b[1;32m     63\u001b[0m \u001b[38;5;66;03m# ordered from top to bottom, left to right\u001b[39;00m\n\u001b[1;32m     64\u001b[0m flat_mask \u001b[38;5;241m=\u001b[39m submask\u001b[38;5;241m.\u001b[39mflatten(order\u001b[38;5;241m=\u001b[39m\u001b[38;5;124m\"\u001b[39m\u001b[38;5;124mF\u001b[39m\u001b[38;5;124m\"\u001b[39m)\n\u001b[0;32m---> 65\u001b[0m predicted \u001b[38;5;241m=\u001b[39m \u001b[43mrunning_length\u001b[49m\u001b[43m(\u001b[49m\u001b[43mflat_mask\u001b[49m\u001b[43m)\u001b[49m\n\u001b[1;32m     66\u001b[0m entry \u001b[38;5;241m=\u001b[39m {\n\u001b[1;32m     67\u001b[0m     \u001b[38;5;124m\"\u001b[39m\u001b[38;5;124mid\u001b[39m\u001b[38;5;124m\"\u001b[39m: \u001b[38;5;28mid\u001b[39m,\n\u001b[1;32m     68\u001b[0m     \u001b[38;5;124m\"\u001b[39m\u001b[38;5;124mclass\u001b[39m\u001b[38;5;124m\"\u001b[39m: name,\n\u001b[1;32m     69\u001b[0m     \u001b[38;5;124m\"\u001b[39m\u001b[38;5;124mpredicted\u001b[39m\u001b[38;5;124m\"\u001b[39m: predicted \u001b[38;5;129;01mor\u001b[39;00m \u001b[38;5;28;01mNone\u001b[39;00m,\n\u001b[1;32m     70\u001b[0m }\n\u001b[1;32m     71\u001b[0m rows\u001b[38;5;241m.\u001b[39mappend(entry)\n",
      "File \u001b[0;32m~/github/gi-tract/utils/extract.py:40\u001b[0m, in \u001b[0;36mrunning_length\u001b[0;34m(arr)\u001b[0m\n\u001b[1;32m     37\u001b[0m start \u001b[38;5;241m=\u001b[39m \u001b[38;5;241m0\u001b[39m\n\u001b[1;32m     39\u001b[0m \u001b[38;5;28;01mfor\u001b[39;00m i \u001b[38;5;129;01min\u001b[39;00m \u001b[38;5;28mrange\u001b[39m(\u001b[38;5;28mlen\u001b[39m(arr)):\n\u001b[0;32m---> 40\u001b[0m     \u001b[38;5;28;01mif\u001b[39;00m \u001b[43marr\u001b[49m\u001b[43m[\u001b[49m\u001b[43mi\u001b[49m\u001b[43m]\u001b[49m \u001b[38;5;241m==\u001b[39m \u001b[38;5;241m0\u001b[39m \u001b[38;5;129;01mand\u001b[39;00m length \u001b[38;5;241m>\u001b[39m \u001b[38;5;241m0\u001b[39m:\n\u001b[1;32m     41\u001b[0m         runs \u001b[38;5;241m+\u001b[39m\u001b[38;5;241m=\u001b[39m [\u001b[38;5;28mstr\u001b[39m(start), \u001b[38;5;28mstr\u001b[39m(length)]\n\u001b[1;32m     42\u001b[0m         length \u001b[38;5;241m=\u001b[39m \u001b[38;5;241m0\u001b[39m\n",
      "\u001b[0;31mKeyboardInterrupt\u001b[0m: "
     ]
    }
   ],
   "source": [
    "DATA_DIR = Path(\"/kaggle/input/uw-madison-gi-tract-image-segmentation\")\n",
    "TEST_DIR = DATA_DIR / \"test\"\n",
    "\n",
    "image_paths = list(TEST_DIR.rglob(\"*.png\"))\n",
    "\n",
    "# Use local images for testing\n",
    "if len(image_paths) == 0:\n",
    "    image_paths = list(Path(\"raw_dataset\").rglob(\"*.png\"))\n",
    "    \n",
    "assert len(image_paths) > 0, \"Could not find any images\"\n",
    "\n",
    "frames = []\n",
    "\n",
    "n = 0\n",
    "for path in tqdm(image_paths, total=len(image_paths)):\n",
    "    slice_number = path.stem[:10]\n",
    "    case_day = path.parent.parent.name\n",
    "    index = f\"{case_day}_{slice_number}\"\n",
    "\n",
    "    image = load_image(path)\n",
    "    image = image.to(device)\n",
    "    probs = predict(model, image)\n",
    "    mask = np.argmax(probs.cpu().detach().numpy(), axis=0)\n",
    "    rle = convert_to_rle(mask, index)\n",
    "    frames.append(rle)"
   ]
  },
  {
   "cell_type": "code",
   "execution_count": 27,
   "id": "1b8daa13",
   "metadata": {},
   "outputs": [
    {
     "data": {
      "text/html": [
       "<div>\n",
       "<style scoped>\n",
       "    .dataframe tbody tr th:only-of-type {\n",
       "        vertical-align: middle;\n",
       "    }\n",
       "\n",
       "    .dataframe tbody tr th {\n",
       "        vertical-align: top;\n",
       "    }\n",
       "\n",
       "    .dataframe thead th {\n",
       "        text-align: right;\n",
       "    }\n",
       "</style>\n",
       "<table border=\"1\" class=\"dataframe\">\n",
       "  <thead>\n",
       "    <tr style=\"text-align: right;\">\n",
       "      <th></th>\n",
       "      <th>id</th>\n",
       "      <th>class</th>\n",
       "      <th>predicted</th>\n",
       "    </tr>\n",
       "  </thead>\n",
       "  <tbody>\n",
       "    <tr>\n",
       "      <th>0</th>\n",
       "      <td>case131_day19_slice_0060</td>\n",
       "      <td>large_bowel</td>\n",
       "      <td>None</td>\n",
       "    </tr>\n",
       "    <tr>\n",
       "      <th>1</th>\n",
       "      <td>case131_day19_slice_0060</td>\n",
       "      <td>small_bowel</td>\n",
       "      <td>None</td>\n",
       "    </tr>\n",
       "    <tr>\n",
       "      <th>2</th>\n",
       "      <td>case131_day19_slice_0060</td>\n",
       "      <td>stomach</td>\n",
       "      <td>None</td>\n",
       "    </tr>\n",
       "    <tr>\n",
       "      <th>3</th>\n",
       "      <td>case131_day19_slice_0061</td>\n",
       "      <td>large_bowel</td>\n",
       "      <td>None</td>\n",
       "    </tr>\n",
       "    <tr>\n",
       "      <th>4</th>\n",
       "      <td>case131_day19_slice_0061</td>\n",
       "      <td>small_bowel</td>\n",
       "      <td>None</td>\n",
       "    </tr>\n",
       "    <tr>\n",
       "      <th>...</th>\n",
       "      <td>...</td>\n",
       "      <td>...</td>\n",
       "      <td>...</td>\n",
       "    </tr>\n",
       "    <tr>\n",
       "      <th>298</th>\n",
       "      <td>case131_day19_slice_0139</td>\n",
       "      <td>small_bowel</td>\n",
       "      <td>None</td>\n",
       "    </tr>\n",
       "    <tr>\n",
       "      <th>299</th>\n",
       "      <td>case131_day19_slice_0139</td>\n",
       "      <td>stomach</td>\n",
       "      <td>None</td>\n",
       "    </tr>\n",
       "    <tr>\n",
       "      <th>300</th>\n",
       "      <td>case131_day19_slice_0100</td>\n",
       "      <td>large_bowel</td>\n",
       "      <td>None</td>\n",
       "    </tr>\n",
       "    <tr>\n",
       "      <th>301</th>\n",
       "      <td>case131_day19_slice_0100</td>\n",
       "      <td>small_bowel</td>\n",
       "      <td>None</td>\n",
       "    </tr>\n",
       "    <tr>\n",
       "      <th>302</th>\n",
       "      <td>case131_day19_slice_0100</td>\n",
       "      <td>stomach</td>\n",
       "      <td>None</td>\n",
       "    </tr>\n",
       "  </tbody>\n",
       "</table>\n",
       "<p>303 rows × 3 columns</p>\n",
       "</div>"
      ],
      "text/plain": [
       "                           id        class predicted\n",
       "0    case131_day19_slice_0060  large_bowel      None\n",
       "1    case131_day19_slice_0060  small_bowel      None\n",
       "2    case131_day19_slice_0060      stomach      None\n",
       "3    case131_day19_slice_0061  large_bowel      None\n",
       "4    case131_day19_slice_0061  small_bowel      None\n",
       "..                        ...          ...       ...\n",
       "298  case131_day19_slice_0139  small_bowel      None\n",
       "299  case131_day19_slice_0139      stomach      None\n",
       "300  case131_day19_slice_0100  large_bowel      None\n",
       "301  case131_day19_slice_0100  small_bowel      None\n",
       "302  case131_day19_slice_0100      stomach      None\n",
       "\n",
       "[303 rows x 3 columns]"
      ]
     },
     "execution_count": 27,
     "metadata": {},
     "output_type": "execute_result"
    }
   ],
   "source": [
    "sub = pd.concat(frames).reset_index(drop=True)\n",
    "sub.to_csv(\"submission.csv\", index=False)\n",
    "sub"
   ]
  },
  {
   "cell_type": "code",
   "execution_count": null,
   "id": "a4b66cb5",
   "metadata": {},
   "outputs": [],
   "source": []
  }
 ],
 "metadata": {
  "kernelspec": {
   "display_name": "Python 3 (ipykernel)",
   "language": "python",
   "name": "python3"
  },
  "language_info": {
   "codemirror_mode": {
    "name": "ipython",
    "version": 3
   },
   "file_extension": ".py",
   "mimetype": "text/x-python",
   "name": "python",
   "nbconvert_exporter": "python",
   "pygments_lexer": "ipython3",
   "version": "3.8.6"
  }
 },
 "nbformat": 4,
 "nbformat_minor": 5
}
